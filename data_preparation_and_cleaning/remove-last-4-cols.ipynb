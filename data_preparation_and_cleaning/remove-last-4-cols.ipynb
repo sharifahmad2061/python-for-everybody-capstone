{
 "cells": [
  {
   "cell_type": "markdown",
   "metadata": {},
   "source": [
    "# Purpose\n",
    "Remove last 4 columns from csvs' because they are data for the previous year.  \n",
    "For example in 2017-2018 data the last 4 cols will contain 2016-2017 data"
   ]
  },
  {
   "cell_type": "markdown",
   "metadata": {},
   "source": [
    "## Import Stuff"
   ]
  },
  {
   "cell_type": "code",
   "execution_count": 1,
   "metadata": {},
   "outputs": [],
   "source": [
    "import pandas as pd"
   ]
  },
  {
   "cell_type": "code",
   "execution_count": 9,
   "metadata": {},
   "outputs": [],
   "source": [
    "def remove_last_four_cols(file):\n",
    "    df = pd.read_csv(f'./../data/{file}')\n",
    "    df = df[df.columns[:-4]]\n",
    "    df.to_csv(f'./../data/{file}')"
   ]
  },
  {
   "cell_type": "markdown",
   "metadata": {},
   "source": [
    "### Iterate over data dir and get all cleaned files"
   ]
  },
  {
   "cell_type": "code",
   "execution_count": 10,
   "metadata": {},
   "outputs": [
    {
     "data": {
      "text/plain": [
       "['2015-2016.csv',\n",
       " '2015-2016_cleaned.csv',\n",
       " '2016-2017.csv',\n",
       " '2016-2017_cleaned.csv',\n",
       " '2017-2018.csv',\n",
       " '2017-2018_cleaned.csv',\n",
       " '2018-2019.csv',\n",
       " '2018-2019_cleaned.csv',\n",
       " '2018-july-december.csv',\n",
       " 'EXPORTS BY COMMODITIES  AND COUNTRIES-(2017-2018).txt',\n",
       " 'EXPORTS BY COMMODITIES AND COUNTRIES (2018-2019).txt',\n",
       " 'EXPORTS BY COMMODITIES AND COUNTRIES, (2015-2016).txt',\n",
       " 'EXPORTS BY COMMODITIES AND COUNTRIES-PAKISTAN (2016-2017).txt',\n",
       " 'exports_commodities_and_countries_2018(july_december).txt']"
      ]
     },
     "execution_count": 10,
     "metadata": {},
     "output_type": "execute_result"
    }
   ],
   "source": [
    "import os\n",
    "os.listdir('./../data/')"
   ]
  },
  {
   "cell_type": "code",
   "execution_count": 13,
   "metadata": {},
   "outputs": [
    {
     "name": "stdout",
     "output_type": "stream",
     "text": [
      "['2015-2016_cleaned.csv', '2016-2017_cleaned.csv', '2017-2018_cleaned.csv', '2018-2019_cleaned.csv']\n"
     ]
    }
   ],
   "source": [
    "files = os.listdir('./../data/')\n",
    "files = [file for file in files if '_cleaned' in file]\n",
    "print(files)"
   ]
  },
  {
   "cell_type": "code",
   "execution_count": 14,
   "metadata": {},
   "outputs": [],
   "source": [
    "for file in files:\n",
    "    remove_last_four_cols(file)"
   ]
  },
  {
   "cell_type": "code",
   "execution_count": null,
   "metadata": {},
   "outputs": [],
   "source": []
  }
 ],
 "metadata": {
  "kernelspec": {
   "display_name": "Python 3",
   "language": "python",
   "name": "python3"
  },
  "language_info": {
   "codemirror_mode": {
    "name": "ipython",
    "version": 3
   },
   "file_extension": ".py",
   "mimetype": "text/x-python",
   "name": "python",
   "nbconvert_exporter": "python",
   "pygments_lexer": "ipython3",
   "version": "3.7.4"
  }
 },
 "nbformat": 4,
 "nbformat_minor": 4
}
